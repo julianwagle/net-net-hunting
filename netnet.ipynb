{
 "metadata": {
  "language_info": {
   "codemirror_mode": {
    "name": "ipython",
    "version": 3
   },
   "file_extension": ".py",
   "mimetype": "text/x-python",
   "name": "python",
   "nbconvert_exporter": "python",
   "pygments_lexer": "ipython3",
   "version": "3.8.5"
  },
  "orig_nbformat": 2,
  "kernelspec": {
   "name": "python385jvsc74a57bd031f2aee4e71d21fbe5cf8b01ff0e069b9275f58929596ceb00d14d90e3e16cd6",
   "display_name": "Python 3.8.5 64-bit"
  },
  "metadata": {
   "interpreter": {
    "hash": "31f2aee4e71d21fbe5cf8b01ff0e069b9275f58929596ceb00d14d90e3e16cd6"
   }
  }
 },
 "nbformat": 4,
 "nbformat_minor": 2,
 "cells": [
  {
   "cell_type": "code",
   "execution_count": 1,
   "metadata": {
    "tags": []
   },
   "outputs": [],
   "source": [
    "import pandas as pd\n",
    "import yfinance as yf\n",
    "import json\n",
    "import time\n",
    "from collections import Counter"
   ]
  },
  {
   "cell_type": "code",
   "execution_count": 2,
   "metadata": {},
   "outputs": [],
   "source": [
    "\n",
    "def get_all_info():\n",
    "    \n",
    "    all_info = {}\n",
    "\n",
    "    df = pd.read_csv('./nasdaq.csv')\n",
    "    df = df[\"Symbol\"]\n",
    "\n",
    "    tickers = []\n",
    "    for d in df:\n",
    "        tickers.append(d)\n",
    "\n",
    "    for ticker in tickers:\n",
    "        print(f\" || {tickers.index(ticker)} / {len(tickers)} || {float(tickers.index(ticker))/float(len(tickers))*100:.4f}% || {ticker}\")\n",
    "        time.sleep(1)\n",
    "        try: \n",
    "            all_info[ticker] = yf.Ticker(ticker).info\n",
    "            json.dump(all_info, open('./all_info.json', \"w\"))\n",
    "        except Exception as e: print(f'{ticker} falied becasue of {e}')"
   ]
  },
  {
   "cell_type": "code",
   "execution_count": 3,
   "metadata": {},
   "outputs": [],
   "source": [
    "def get_ratios():\n",
    "    ratio_sales = {}\n",
    "    ratio_book = {}\n",
    "    ratio_margins = {}\n",
    "    all_info = json.load(open('./all_info.json'))\n",
    "    for ticker in all_info:\n",
    "\n",
    "        try:\n",
    "            sales = float(all_info[ticker][\"priceToSalesTrailing12Months\"])\n",
    "            ratio_sales[ticker] = sales\n",
    "            json.dump(ratio_sales, open('./ratio_sales.json', \"w\"))\n",
    "        except: pass\n",
    "\n",
    "        try:\n",
    "            book = float(all_info[ticker][\"priceToBook\"])\n",
    "            ratio_book[ticker] = book\n",
    "            json.dump(ratio_book, open('./ratio_book.json', \"w\"))\n",
    "        except: pass\n",
    "\n",
    "        try:\n",
    "            margins = float(all_info[ticker][\"profitMargins\"])\n",
    "            ratio_margins[ticker] = margins\n",
    "            json.dump(ratio_margins, open('./ratio_margins.json', \"w\"))\n",
    "        except: pass"
   ]
  },
  {
   "cell_type": "code",
   "execution_count": 4,
   "metadata": {},
   "outputs": [],
   "source": [
    "def sort_ratios():\n",
    "\n",
    "    ratio_book = json.load(open('./ratio_book.json'))\n",
    "    sorted_ratio_book = {key: value for key, value in sorted(ratio_book.items(), key=lambda item: item[1])}\n",
    "    json.dump(sorted_ratio_book, open('./ratio_book.json', \"w\"))\n",
    "\n",
    "    ratio_sales = json.load(open('./ratio_sales.json'))\n",
    "    sorted_ratio_sales = {key: value for key, value in sorted(ratio_sales.items(), key=lambda item: item[1])}\n",
    "    json.dump(sorted_ratio_sales, open('./ratio_sales.json', \"w\"))\n",
    "\n",
    "    ratio_margins = json.load(open('./ratio_margins.json'))\n",
    "    sorted_ratio_margins = {key: value for key, value in sorted(ratio_margins.items(), key=lambda item: item[1])}\n",
    "    json.dump(sorted_ratio_margins, open('./ratio_margins.json', \"w\"))\n"
   ]
  },
  {
   "cell_type": "code",
   "execution_count": 5,
   "metadata": {},
   "outputs": [],
   "source": [
    "def get_filtered_margins():\n",
    "\n",
    "    ratio_book = json.load(open('./ratio_book.json'))\n",
    "    filtered_book = {key: value for key, value in ratio_book.items() if value < 1}\n",
    "    json.dump(filtered_book, open('./filtered_book.json', \"w\"))\n",
    "\n",
    "    ratio_sales = json.load(open('./ratio_sales.json'))\n",
    "    filtered_sales = {key: value for key, value in ratio_sales.items() if value < 1}\n",
    "    json.dump(filtered_sales, open('./filtered_sales.json', \"w\"))\n",
    "\n",
    "    ratio_margins = json.load(open('./ratio_margins.json'))\n",
    "    filtered_margins = {key: value for key, value in ratio_margins.items() if value > 0}\n",
    "    json.dump(filtered_margins, open('./filtered_margins.json', \"w\"))"
   ]
  },
  {
   "cell_type": "code",
   "execution_count": 6,
   "metadata": {},
   "outputs": [],
   "source": [
    "def get_super_filtered():\n",
    "    book = json.load(open('./filtered_book.json'))\n",
    "    sales = json.load(open('./filtered_sales.json'))\n",
    "    margins = json.load(open('./filtered_margins.json'))\n",
    "\n",
    "    tickers = [k for k in margins if k in book and k in sales]\n",
    "\n",
    "    super_filtered_results = {key: value for key, value in margins.items() if key in tickers}\n",
    "    json.dump(super_filtered_results, open('./super_filtered_results.json', \"w\"))"
   ]
  },
  {
   "cell_type": "code",
   "execution_count": 7,
   "metadata": {},
   "outputs": [],
   "source": [
    "def rm_china():\n",
    "    results = json.load(open('./super_filtered_results.json'))\n",
    "    all_info = json.load(open('./all_info.json'))\n",
    "    non_china = {}\n",
    "    for ticker in results:\n",
    "        try:\n",
    "            country = all_info[ticker][\"country\"]\n",
    "            if country != \"China\":\n",
    "                non_china[ticker] = results[ticker]\n",
    "        except: pass\n",
    "    json.dump(non_china, open('./super_filtered_results.json', \"w\"))\n",
    "    print(len(json.load(open('./super_filtered_results.json'))))\n"
   ]
  },
  {
   "cell_type": "code",
   "execution_count": 8,
   "metadata": {},
   "outputs": [],
   "source": [
    "\n",
    "def get_tags():\n",
    "    results = json.load(open('./super_filtered_results.json'))\n",
    "    all_info = json.load(open('./all_info.json'))\n",
    "    sectors = []\n",
    "    industries = []\n",
    "    tags = []\n",
    "    for ticker in results:\n",
    "        try:\n",
    "            sector = all_info[ticker][\"sector\"]\n",
    "            sectors.append(sector)\n",
    "            industry = all_info[ticker]['industry']\n",
    "            industries.append(industry)\n",
    "            tag = str(sector) + \", \" + str(industry)\n",
    "            tags.append(tag)\n",
    "        except: pass\n",
    "\n",
    "    print(Counter(tags))\n",
    "    print(\"*\"*50)\n",
    "    print(Counter(sectors))\n",
    "    print(\"*\"*50)\n",
    "    print(Counter(industries))\n",
    "    print(\"*\"*50)\n",
    "\n",
    "# get_tags()"
   ]
  },
  {
   "cell_type": "code",
   "execution_count": 9,
   "metadata": {},
   "outputs": [],
   "source": [
    "def get_some_info():\n",
    "    some_info = {}\n",
    "    all_info = json.load(open('./all_info.json')) \n",
    "    for ticker in all_info: \n",
    "        try:\n",
    "            country = all_info[ticker][\"country\"]\n",
    "            if country != \"China\":\n",
    "                sales = float(all_info[ticker][\"priceToSalesTrailing12Months\"])\n",
    "                assert sales > 0 # and sales < float(inf)\n",
    "                book = float(all_info[ticker][\"priceToBook\"])\n",
    "                assert book > 0 # and book < float(inf)\n",
    "                margins = float(all_info[ticker][\"profitMargins\"])\n",
    "                assert margins > 0 # and margins < float(inf)\n",
    "\n",
    "                sector = all_info[ticker][\"sector\"]\n",
    "                assert len(sector) > 0\n",
    "                industry = all_info[ticker]['industry']\n",
    "                assert len(industry) > 0\n",
    "\n",
    "                some_info[ticker] = {\"sales\": sales, 'book': book, 'margins': margins, 'sector':sector, 'industry': industry}\n",
    "\n",
    "        except: pass\n",
    "    json.dump(some_info, open('./some_info.json', \"w\"))\n",
    "\n",
    "# get_some_info()"
   ]
  },
  {
   "cell_type": "code",
   "execution_count": 10,
   "metadata": {},
   "outputs": [],
   "source": [
    "def get_industry_averages():\n",
    "    info = json.load(open('./some_info.json'))\n",
    "    industries = {}\n",
    "    values = [\"sales\", 'book', 'margins']\n",
    "    for i in info:\n",
    "        industry = info[i]['industry']\n",
    "        # print(industry)\n",
    "        try: exists = bool(len(industries[industry]))\n",
    "        except: exists = False\n",
    "        if exists:\n",
    "            for v in values:\n",
    "                industries[industry][v].append(info[i][v])\n",
    "        else:\n",
    "            industries[industry] = {\"sales\": [info[i]['sales']], 'book': [info[i]['book']], 'margins': [info[i]['margins']]}\n",
    "\n",
    "    averages = {}\n",
    "    for industry in industries:\n",
    "        averages[industry] = {}\n",
    "        for v in values:\n",
    "            averages[industry][v] = sum(industries[industry][v]) / len(industries[industry][v])\n",
    "\n",
    "    print(averages)\n",
    "    json.dump(averages, open('./averages.json', \"w\"))\n",
    "\n",
    "# get_industry_averages()"
   ]
  },
  {
   "cell_type": "code",
   "execution_count": 11,
   "metadata": {},
   "outputs": [],
   "source": [
    "def get_nets():\n",
    "    nets = {}\n",
    "    info = json.load(open('./some_info.json'))\n",
    "    for ticker in info:\n",
    "        try:\n",
    "\n",
    "            sales = float(info[ticker][\"sales\"])\n",
    "            assert sales < 1 # and sales < float(inf)\n",
    "            book = float(info[ticker][\"book\"])\n",
    "            assert book < 1 # and book < float(inf)\n",
    "            margins = float(info[ticker][\"margins\"])\n",
    "\n",
    "            sector = info[ticker][\"sector\"]\n",
    "            assert len(sector) > 0\n",
    "            industry = info[ticker]['industry']\n",
    "            assert len(industry) > 0\n",
    "\n",
    "            nets[ticker] = {\"sales\": sales, 'book': book, 'margins': margins, 'sector':sector, 'industry': industry}\n",
    "\n",
    "        except: pass\n",
    "    json.dump(nets, open('./super_filtered_results.json', \"w\"))\n",
    "\n",
    "# get_nets()"
   ]
  },
  {
   "cell_type": "code",
   "execution_count": 12,
   "metadata": {},
   "outputs": [],
   "source": [
    "def get_norm_deviation():\n",
    "    all_averages = json.load(open('./averages.json'))\n",
    "    info = json.load(open('./super_filtered_results.json'))\n",
    "    values = [\"sales\", 'book'] # , 'margins']\n",
    "    for ticker in info:\n",
    "        industry = info[ticker]['industry']\n",
    "        averages = all_averages[industry]\n",
    "        for v in values:\n",
    "            p = float(info[ticker][v]) / float(all_averages[industry][v]) * 100\n",
    "            info[ticker][f'{v}_deviation'] = 100 - p\n",
    "    json.dump(info, open('./super_filtered_results_2.json', \"w\"))\n",
    "\n",
    "get_norm_deviation()"
   ]
  }
 ]
}